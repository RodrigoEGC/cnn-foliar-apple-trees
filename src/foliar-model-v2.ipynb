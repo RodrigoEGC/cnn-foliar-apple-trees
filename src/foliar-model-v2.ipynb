{
 "cells": [
  {
   "attachments": {},
   "cell_type": "markdown",
   "metadata": {},
   "source": [
    "**Classificação das doenças na folhas de macieiras com fine-tunning**"
   ]
  },
  {
   "cell_type": "code",
   "execution_count": null,
   "metadata": {},
   "outputs": [],
   "source": [
    "import pathlib\n",
    "import os\n",
    "import cv2\n",
    "import tensorflow as tf\n",
    "import tensorflow_datasets as tfds\n",
    "import pandas as pd\n",
    "import numpy as np\n",
    "import matplotlib.pyplot as plt\n",
    "from keras.metrics import Precision, Recall\n",
    "from sklearn.model_selection import train_test_split\n",
    "from keras.layers import BatchNormalization, Flatten\n"
   ]
  },
  {
   "cell_type": "code",
   "execution_count": null,
   "metadata": {},
   "outputs": [],
   "source": [
    "kernel_init = 'random_normal'"
   ]
  },
  {
   "cell_type": "code",
   "execution_count": null,
   "metadata": {},
   "outputs": [],
   "source": [
    "dataset_folder = os.path.join(\"data\")"
   ]
  },
  {
   "cell_type": "code",
   "execution_count": null,
   "metadata": {},
   "outputs": [],
   "source": [
    "datasetObject = pd.read_csv(os.path.join(dataset_folder, \"train.csv\"))"
   ]
  },
  {
   "cell_type": "code",
   "execution_count": null,
   "metadata": {},
   "outputs": [],
   "source": [
    "imagesDataset = pathlib.Path(os.path.join(dataset_folder, \"images\"))\n",
    "listImages = list(imagesDataset.glob(\"*.*\"))"
   ]
  },
  {
   "cell_type": "code",
   "execution_count": null,
   "metadata": {},
   "outputs": [],
   "source": [
    "images_id_csv = datasetObject['image_id']\n",
    "healthy_csv = datasetObject['healthy']\n",
    "multiple_diseases_csv = datasetObject['multiple_diseases']\n",
    "rust_csv = datasetObject['rust']\n",
    "scab_csv = datasetObject['scab']"
   ]
  },
  {
   "cell_type": "code",
   "execution_count": null,
   "metadata": {},
   "outputs": [],
   "source": [
    "images = []\n",
    "labels = []\n",
    "for index, values in enumerate(images_id_csv):\n",
    "    img = cv2.imread(os.path.join(dataset_folder, \"images\", \"{}.jpg\".format(values)))\n",
    "    img = cv2.resize(img, (100, 100))\n",
    "    img = img/255\n",
    "    labels.append([healthy_csv[index], multiple_diseases_csv[index], rust_csv[index],\n",
    "                 scab_csv[index]])\n",
    "    images.append(img)"
   ]
  },
  {
   "cell_type": "code",
   "execution_count": null,
   "metadata": {},
   "outputs": [],
   "source": [
    "img_data_g = tf.keras.preprocessing.image.ImageDataGenerator(\n",
    "        rotation_range=0.35,\n",
    "        zoom_range=0.2,\n",
    "        horizontal_flip=True,\n",
    "        vertical_flip=True,\n",
    "        shear_range=0.2,\n",
    "        width_shift_range=0.15,\n",
    "        height_shift_range=0.15,\n",
    "        rescale=None)"
   ]
  },
  {
   "cell_type": "code",
   "execution_count": null,
   "metadata": {},
   "outputs": [],
   "source": [
    "images_after_aug = []\n",
    "labels_after_aug = []\n",
    "for index, image in enumerate(images):\n",
    "  for i in range(9):\n",
    "      img = img_data_g.flow(np.reshape(image, (1, 100, 100, 3))).next()\n",
    "      images_after_aug.append(np.reshape(img, (100, 100, 3)))\n",
    "      labels_after_aug.append(labels[index])\n",
    "labels = np.asarray(labels_after_aug)\n",
    "images = np.asarray(images_after_aug)"
   ]
  },
  {
   "cell_type": "code",
   "execution_count": null,
   "metadata": {},
   "outputs": [],
   "source": [
    "d = tf.keras.applications.DenseNet121(include_top=False,\n",
    "                   input_shape=(100,100,3),\n",
    "                   pooling=None,\n",
    "                   weights='imagenet')\n",
    "for i in d.layers[:149]:\n",
    "  i.trainable = False\n",
    "\n",
    "for i in d.layers[149:]:\n",
    "  i.trainable = True"
   ]
  },
  {
   "cell_type": "code",
   "execution_count": null,
   "metadata": {},
   "outputs": [],
   "source": [
    "m = tf.keras.models.Sequential()\n",
    "m.add(d)\n",
    "m.add(tf.keras.layers.Flatten())\n",
    "m.add(tf.keras.layers.BatchNormalization())\n",
    "m.add(tf.keras.layers.Dense(256, activation='relu'))\n",
    "m.add(tf.keras.layers.Dropout(0.7))\n",
    "m.add(tf.keras.layers.BatchNormalization())\n",
    "m.add(tf.keras.layers.Dense(128, activation='relu'))\n",
    "m.add(tf.keras.layers.Dropout(0.5))\n",
    "m.add(tf.keras.layers.BatchNormalization())\n",
    "m.add(tf.keras.layers.Dense(64, activation='relu'))\n",
    "m.add(tf.keras.layers.Dropout(0.3))\n",
    "m.add(tf.keras.layers.Dense(4, activation='softmax'))"
   ]
  },
  {
   "cell_type": "code",
   "execution_count": null,
   "metadata": {},
   "outputs": [],
   "source": [
    "m.compile(optimizer = tf.keras.optimizers.Adam(0.001), \n",
    "          loss = \"categorical_crossentropy\", \n",
    "          metrics =[\"accuracy\", \n",
    "                     Precision(name='precision'), \n",
    "                     Recall(name='recall')])"
   ]
  },
  {
   "cell_type": "code",
   "execution_count": null,
   "metadata": {},
   "outputs": [],
   "source": [
    "x_train, x_test, y_train, y_test = train_test_split(images, labels, test_size = 0.15, random_state = 42)"
   ]
  },
  {
   "cell_type": "code",
   "execution_count": null,
   "metadata": {},
   "outputs": [],
   "source": [
    "history = m.fit(x_train, y_train,\n",
    "                epochs=25,\n",
    "                batch_size=32,\n",
    "                callbacks = [\n",
    "                    tf.keras.callbacks.EarlyStopping(\n",
    "                        monitor='val_loss',\n",
    "                        patience=5,\n",
    "                        min_delta=0.001,\n",
    "                        restore_best_weights=True)\n",
    "                ])"
   ]
  }
 ],
 "metadata": {
  "kernelspec": {
   "display_name": "apple-trees",
   "language": "python",
   "name": "python3"
  },
  "language_info": {
   "codemirror_mode": {
    "name": "ipython",
    "version": 3
   },
   "file_extension": ".py",
   "mimetype": "text/x-python",
   "name": "python",
   "nbconvert_exporter": "python",
   "pygments_lexer": "ipython3",
   "version": "3.10.11"
  },
  "orig_nbformat": 4
 },
 "nbformat": 4,
 "nbformat_minor": 2
}
